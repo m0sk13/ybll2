{
 "cells": [
  {
   "cell_type": "markdown",
   "metadata": {},
   "source": [
    "## YBLL Workshop 5"
   ]
  },
  {
   "cell_type": "markdown",
   "metadata": {},
   "source": [
    "### Hands-on: Exploratory Data Analysis with Pandas\n",
    "<i> By Amos Changcoco </i>\n",
    "\n",
    "In this notebook, we will be using Pandas to perform one of the usual data science techniques: <b><i>exploratory data analysis (EDA)</b></i>. This technique allows us to understand the data that we are handling better, gain insights from it, and know what data preprocessing (or data cleaning) steps we need to do before providing it to our machine learning model (<i>oops, that's a spoiler</i>)."
   ]
  },
  {
   "cell_type": "code",
   "execution_count": null,
   "metadata": {},
   "outputs": [],
   "source": [
    "## Install required libraries for this hands-on\n",
    "!pip install pandas\n",
    "!pip install numpy\n",
    "!pip install seaborn\n",
    "!pip install matplotlib\n",
    "!pip install scipy"
   ]
  },
  {
   "cell_type": "code",
   "execution_count": null,
   "metadata": {},
   "outputs": [],
   "source": [
    "## Importing required libraries to the notebook\n",
    "import pandas as pd\n",
    "import numpy as np\n",
    "import matplotlib.pyplot as plt"
   ]
  },
  {
   "cell_type": "markdown",
   "metadata": {},
   "source": [
    "For the first part of the hands-on, you will be performing a guided EDA on one of the well-known datasets used in learning machine learning (<i>sorry for the word repetition ✌</i>), the Titanic Dataset."
   ]
  },
  {
   "cell_type": "code",
   "execution_count": null,
   "metadata": {},
   "outputs": [],
   "source": [
    "df_titanic = pd.read_csv(\"titanic.csv\")\n",
    "df_titanic.head(5)"
   ]
  },
  {
   "cell_type": "markdown",
   "metadata": {},
   "source": [
    "To provide more context to this dataset, below is the data dictionary derived from <a href=\"https://www.kaggle.com/c/titanic/data\">https://www.kaggle.com/c/titanic/data</a>:\n",
    "\n",
    "| Attribute | Description |\n",
    "|:--|:--|\n",
    "| `survived` | indicates if the passenger survived (`1` means yes and `0` if otherwise) |\n",
    "| `pclass` | ticket class represented in ordinal numbers |\n",
    "| `sex` | sex of the passenger |\n",
    "| `sibsp` |number of siblings and spouses accompanied by the passenger |\n",
    "| `parch` | number of parents and children accompanied by the passenger |\n",
    "|  `fare` | passenger fare |\n",
    "| `embarked` | first letter of port of embarkation |\n",
    "|  `class` | ticket class represented in words |\n",
    "| `who` | another representation for sex |\n",
    "| `adult_male` | indicates if the passenger is male |\n",
    "| `deck` | unknown |\n",
    "| `embark_town`| full name of the port of embarkation |\n",
    "|  `alive` | indicates if the passenger is alive |\n",
    "| `alone` | indicates if the passenger is alone during the trip|"
   ]
  },
  {
   "cell_type": "markdown",
   "metadata": {},
   "source": [
    "Time to put our knowledge on <i> descriptive statistics </i> to good use. Finding the counts, minimum and maximum values, measures of central tendency, and measures of variability are usually the first steps in EDA."
   ]
  },
  {
   "cell_type": "markdown",
   "metadata": {},
   "source": [
    "#### Min and Max"
   ]
  },
  {
   "cell_type": "code",
   "execution_count": null,
   "metadata": {},
   "outputs": [],
   "source": [
    "## Replace None values to find the min and max values for age\n",
    "min_age = None\n",
    "max_age = None\n",
    "\n",
    "print(\"Mininum value for age:\", min_age)\n",
    "print(\"Maximum value for age:\", max_age)"
   ]
  },
  {
   "cell_type": "code",
   "execution_count": null,
   "metadata": {},
   "outputs": [],
   "source": [
    "## Replace None values to find the min and max values for fare\n",
    "min_fare = None\n",
    "max_fare = None\n",
    "\n",
    "print(\"Mininum value for fare:\", min_fare)\n",
    "print(\"Maximum value for fare:\", max_fare)"
   ]
  },
  {
   "cell_type": "markdown",
   "metadata": {},
   "source": [
    "#### Quartiles"
   ]
  },
  {
   "cell_type": "code",
   "execution_count": null,
   "metadata": {},
   "outputs": [],
   "source": [
    "## Replace None values to find the first three quantiles\n",
    "q1_age = None\n",
    "q2_age = None\n",
    "q3_age = None\n",
    "\n",
    "print(\"First quantile for age:\", q1_age)\n",
    "print(\"Second quantile for age:\", q2_age)\n",
    "print(\"First quantile for age:\", q3_age)"
   ]
  },
  {
   "cell_type": "code",
   "execution_count": null,
   "metadata": {},
   "outputs": [],
   "source": [
    "## Plotting distribution of the age and its quantiles\n",
    "fig, ax = plt.subplots(figsize=(10, 5))\n",
    "ax = df_titanic['age'].dropna().plot.kde(c=\"#00aeef\")\n",
    "labels = {f'First quantile for age: {q1_age}',\n",
    "          f'Second quantile for age: {q2_age}',\n",
    "          f'Third quantile for age: {q3_age}',\n",
    "          }\n",
    "handles, _ = ax.get_legend_handles_labels()\n",
    "handles.append(ax.axvline(x=q1_age, c=\"#99cc33\", linestyle='dashed'))\n",
    "handles.append(ax.axvline(x=q2_age, c=\"#99cc33\", linestyle='dashed'))\n",
    "handles.append(ax.axvline(x=q3_age, c=\"#99cc33\", linestyle='dashed'))\n",
    "ax.legend(handles = handles[1:], labels = labels)"
   ]
  },
  {
   "cell_type": "markdown",
   "metadata": {},
   "source": [
    "#### Measures of Central Tendency (Mean, Median, Mode)"
   ]
  },
  {
   "cell_type": "code",
   "execution_count": null,
   "metadata": {},
   "outputs": [],
   "source": [
    "## Replace None to get the mean for the age\n",
    "mean_age = None\n",
    "\n",
    "## Replace None to get the median for the age\n",
    "median_age = None\n",
    "\n",
    "## Replace None to get the mode for the age\n",
    "mode_age = None\n",
    "\n",
    "print(f\"Mean age: {mean_age}\")\n",
    "print(f\"Median age: {median_age}\")\n",
    "print(f\"Mode age: {mode_age}\")"
   ]
  },
  {
   "cell_type": "markdown",
   "metadata": {},
   "source": [
    "#### Measures of Variability (Range, IQR, Variance/Standard Deviation)"
   ]
  },
  {
   "cell_type": "code",
   "execution_count": null,
   "metadata": {},
   "outputs": [],
   "source": [
    "# Replace None to get the range of age\n",
    "range_age = None\n",
    "\n",
    "## Replace None to get the IQR for age\n",
    "iqr_age = None\n",
    "\n",
    "## Replace None to get the variance for age\n",
    "var_age = None\n",
    "\n",
    "## Replace None to get the standard deviation for age\n",
    "std_age = None\n",
    "\n",
    "print(f\"Range of age: {range_age}\")\n",
    "print(f\"IQR of age: {iqr_age}\")\n",
    "print(f\"Variance of age: {var_age}\")\n",
    "print(f\"Standard Deviation of age: {std_age}\")"
   ]
  },
  {
   "cell_type": "markdown",
   "metadata": {},
   "source": [
    "For the next cells, the notebook will provide some questions to be answered by EDA exercise. In reality, one of the skills a data scientist must have is to be curious enough in generating these questions (*don't be afraid to ask dumb questions as long as the data can answer it*)"
   ]
  },
  {
   "cell_type": "markdown",
   "metadata": {},
   "source": [
    "#### Q1. Did being rich gain the upper hand at survivability?\n",
    "\n",
    "While the dataset did not specifically say which ones are rich, the ability to purchase first class might be a good indicator of social status. But even so, were they able to make it out of the incident alive?"
   ]
  },
  {
   "cell_type": "code",
   "execution_count": null,
   "metadata": {},
   "outputs": [],
   "source": [
    "## Place code for grouping by 'pclass' and 'alive'\n"
   ]
  },
  {
   "cell_type": "markdown",
   "metadata": {},
   "source": [
    "#### Q2. Were there more young passengers alive than old ones?\n",
    "\n",
    "How are we able to say that the passenger is young or old? Perhaps we can utilize our descriptive statistics to build the definition of young and old out of the data."
   ]
  },
  {
   "cell_type": "code",
   "execution_count": null,
   "metadata": {},
   "outputs": [],
   "source": [
    "# Assumption one: Minimun value for age and first quartile can determine the age range for the young\n",
    "lower_young = None\n",
    "upper_young = None\n",
    "\n",
    "# Assumption two: Maximum value for age and third quartile can detemine the age range for old\n",
    "lower_old = None\n",
    "upper_old = None\n",
    "\n",
    "# Setting conditions and values for age group\n",
    "conditions = [\n",
    "    (df_titanic['age'] >= lower_young) & (df_titanic['age'] < upper_young),\n",
    "    (df_titanic['age'] >= lower_old) & (df_titanic['age'] < upper_old),\n",
    "]\n",
    "values = ['young', 'old']\n",
    "df_titanic['age_group'] = np.select(conditions, values)\n",
    "\n",
    "# Place code to perform groupby on `age_group` and `alive`\n"
   ]
  },
  {
   "cell_type": "markdown",
   "metadata": {},
   "source": [
    "#### Q3. Is it possible to know the estimated number of families that were onboard the ship?\n",
    "\n",
    "The dataset indicated the number of siblings, spouses, parents, and children for each passenger. Maybe we could also utilize `embark_town`, `pclass`, and `alone` as well.\n",
    "\n",
    "*Note: The below solution is just one approach to answer this question. You are free to make your own assumptions to come up with another estimate.*"
   ]
  },
  {
   "cell_type": "code",
   "execution_count": null,
   "metadata": {},
   "outputs": [],
   "source": [
    "# Assumption one: a passenger with a family should not be alone.\n",
    "# Replace None to get all passengers that are not alone.\n",
    "df_alone = None\n",
    "\n",
    "# Assumption two: the family size is the number of all people the passenger is with\n",
    "# Replace None to determine family size (including passenger)\n",
    "df_alone['fam_size'] = None\n",
    "\n",
    "# Assumption three: the family has the same port of embarkation and is of the same class\n",
    "# Replace None to group by embark_town, pclass, and fam_size (reset index)\n",
    "df = None\n",
    "df.rename(columns={0: 'num_passengers'}, inplace=True)\n",
    "\n",
    "# Assumption four: we can use the unique fam size per embark_town and pclass to get the total families\n",
    "# Replace None to divide number of passengers per row by the fam_size\n",
    "df['total_fam'] = (None).apply(np.ceil)\n",
    "\n",
    "print(df)\n",
    "print(\"\\n Estimated number of families:\", df.total_fam.sum())"
   ]
  },
  {
   "cell_type": "markdown",
   "metadata": {},
   "source": [
    "#### Homework\n",
    "\n",
    "Use the other dataset, Data Science Salaries dataset, to perform EDA. Again, curiousity is key to having a fulfilling EDA journey."
   ]
  },
  {
   "cell_type": "code",
   "execution_count": null,
   "metadata": {},
   "outputs": [],
   "source": [
    "df_salaries = pd.read_csv(\"data_science_salaries.csv\")\n",
    "df_salaries.head(5)"
   ]
  },
  {
   "cell_type": "code",
   "execution_count": null,
   "metadata": {},
   "outputs": [],
   "source": []
  }
 ],
 "metadata": {
  "kernelspec": {
   "display_name": "Python 3",
   "language": "python",
   "name": "python3"
  },
  "language_info": {
   "codemirror_mode": {
    "name": "ipython",
    "version": 3
   },
   "file_extension": ".py",
   "mimetype": "text/x-python",
   "name": "python",
   "nbconvert_exporter": "python",
   "pygments_lexer": "ipython3",
   "version": "3.10.5"
  }
 },
 "nbformat": 4,
 "nbformat_minor": 2
}
